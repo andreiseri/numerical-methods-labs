{
 "cells": [
  {
   "cell_type": "markdown",
   "metadata": {},
   "source": [
    "# Interpolari folosind metoda Neville"
   ]
  },
  {
   "cell_type": "markdown",
   "metadata": {},
   "source": [
    "\n",
    "## Ce face această metodă?"
   ]
  },
  {
   "cell_type": "markdown",
   "metadata": {},
   "source": [
    "Se consideră o funcţie $f:[a, b] \\rightarrow R$ căreia îi cunoaştem valorile în $n+1$ puncte $x_0, x_1, ..., x_n$.<br>\n",
    "Metoda Neville construieşte un polinom de grad cel mult $n$ ce aproximeză comportamentul funcţiei în afara acelor puncte."
   ]
  },
  {
   "cell_type": "markdown",
   "metadata": {},
   "source": [
    "## Cum se construieşte polinomul?"
   ]
  },
  {
   "cell_type": "markdown",
   "metadata": {},
   "source": [
    "Pornim de la $n$ polinoame de grad $0$ ce reprezintă valorile cunoscute de noi ale funcţiei $f$. Deci definim $P_{i, i} = f(x_i)$ pentru $0 \\leqslant i \\leqslant n$. <br>\n",
    "Primul pas în construirea polinomului este calcularea polinomelor $P_{i, i + 1}$ ce unesc fiecare pereche de puncte consecutive $(x_i, x_{i + 1})$. Astfel, apare corespondenţa: \n"
   ]
  },
  {
   "cell_type": "markdown",
   "metadata": {},
   "source": [
    "$$P_{0, 1} \\rightarrow (x_0, f(x_0)), (x_1, f(x_1))$$\n",
    "$$P_{1, 2} \\rightarrow (x_1, f(x_1)), (x_2, f(x_2))$$\n",
    "$$...$$\n",
    "$$P_{n - 1, n} \\rightarrow (x_{n - 1}, f(x_{n - 1})), (x_n, f(x_n))$$"
   ]
  },
  {
   "cell_type": "markdown",
   "metadata": {},
   "source": [
    "Cu ajutorul polinoamelor mai devreme aflate, vom construi alte polinoame, de grad mai mare, ce vor uni câte 3 puncte.<br><br>\n",
    "Acest proces se repetă până la obţinerea unui polinom $P_{0, n}$ ce uneşte toate cele $n + 1$ puncte suport. <br><br>\n",
    "Spre deosebire de polinomul Lagrange (unde polinomul se contruia deodată), se poate observa cum prin această metodă procesul de construcţie este recursiv, putând fi reprezentat sub formă piramidală astfel:"
   ]
  },
  {
   "cell_type": "markdown",
   "metadata": {},
   "source": [
    "<img src=\"Neville.png\" width=50%>"
   ]
  },
  {
   "cell_type": "markdown",
   "metadata": {},
   "source": [
    "# Relaţia de recurenţă"
   ]
  },
  {
   "cell_type": "markdown",
   "metadata": {},
   "source": [
    "Dându-se $n + 1$ puncte în care cunoaştem valoarea funcţie $f$, considerăm $P_{i, j}$ polinomul de grad $j - i$ ce uneşte punctele $x_i, x_{i + 1}, ..., x_j$. Astfel, $P_{i, j}$ satisface următoarele relaţii de recurenţă: <br>\n",
    "<br>\n",
    "$$P_{i, i}(x) = y_i, 0 \\leqslant i \\leqslant n$$\n",
    "<br>\n",
    "$$P_{i, j}(x) = \\frac{(x - x_j)P_{i, j - 1}(x) - (x - x_i)P_{i + 1, j}(x)}{x_i - x_j}, 0 \\leqslant i < j \\leqslant n$$"
   ]
  },
  {
   "cell_type": "markdown",
   "metadata": {},
   "source": [
    "INSERT COD PLOTARE HERE"
   ]
  },
  {
   "cell_type": "code",
   "execution_count": null,
   "metadata": {},
   "outputs": [],
   "source": [
    "# "
   ]
  }
 ],
 "metadata": {
  "kernelspec": {
   "display_name": "Octave",
   "language": "octave",
   "name": "octave"
  },
  "language_info": {
   "file_extension": ".m",
   "help_links": [
    {
     "text": "GNU Octave",
     "url": "https://www.gnu.org/software/octave/support.html"
    },
    {
     "text": "Octave Kernel",
     "url": "https://github.com/Calysto/octave_kernel"
    },
    {
     "text": "MetaKernel Magics",
     "url": "https://github.com/calysto/metakernel/blob/master/metakernel/magics/README.md"
    }
   ],
   "mimetype": "text/x-octave",
   "name": "octave",
   "version": "4.2.2"
  }
 },
 "nbformat": 4,
 "nbformat_minor": 2
}
